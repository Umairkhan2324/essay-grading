{
  "nbformat": 4,
  "nbformat_minor": 0,
  "metadata": {
    "colab": {
      "provenance": [],
      "gpuType": "T4",
      "authorship_tag": "ABX9TyPY9m/h5A8PmSm8xK+mXc2s"
    },
    "kernelspec": {
      "name": "python3",
      "display_name": "Python 3"
    },
    "language_info": {
      "name": "python"
    },
    "accelerator": "GPU"
  },
  "cells": [
    {
      "cell_type": "code",
      "execution_count": 1,
      "metadata": {
        "id": "vzefmCRHYfXh"
      },
      "outputs": [],
      "source": [
        "%%capture --no-stderr\n",
        "%pip install --quiet -U langgraph langchain_community langchain_core langchain-groq"
      ]
    },
    {
      "cell_type": "code",
      "source": [
        "from typing import TypedDict\n",
        "from langgraph.graph import StateGraph, END\n",
        "from langchain_groq import ChatGroq\n",
        "from langchain_core.prompts import ChatPromptTemplate\n",
        "import os,getpass\n",
        "from dotenv import load_dotenv\n",
        "import re"
      ],
      "metadata": {
        "id": "CxuiywW9agdW"
      },
      "execution_count": 2,
      "outputs": []
    },
    {
      "cell_type": "code",
      "source": [
        "def _set_env(var: str):\n",
        "    if not os.environ.get(var):\n",
        "        os.environ[var] = getpass.getpass(f\"{var}: \")\n",
        "\n",
        "_set_env(\"GROQ_API_KEY\")\n"
      ],
      "metadata": {
        "colab": {
          "base_uri": "https://localhost:8080/"
        },
        "id": "XaNBDVHVavtA",
        "outputId": "ddbd5ff1-971a-4251-f604-4ec71438b858"
      },
      "execution_count": 3,
      "outputs": [
        {
          "name": "stdout",
          "output_type": "stream",
          "text": [
            "GROQ_API_KEY: ··········\n"
          ]
        }
      ]
    },
    {
      "cell_type": "code",
      "source": [
        "llm = ChatGroq(\n",
        "    model=\"llama-3.1-70b-versatile\",\n",
        "    temperature=0.1,\n",
        ")"
      ],
      "metadata": {
        "id": "kbItpoiOa3cW"
      },
      "execution_count": 4,
      "outputs": []
    },
    {
      "cell_type": "code",
      "source": [
        "class State(TypedDict):\n",
        "    \"\"\"Represents the state of the essay grading process.\"\"\"\n",
        "    essay: str\n",
        "    relevance_score: float\n",
        "    grammar_score: float\n",
        "    structure_score: float\n",
        "    depth_score: float\n",
        "    final_score: float"
      ],
      "metadata": {
        "id": "jskcy43Na6iC"
      },
      "execution_count": 5,
      "outputs": []
    },
    {
      "cell_type": "code",
      "source": [
        "def extract_score(content: str) -> float:\n",
        "    \"\"\"Extract the numeric score from the LLM's response.\"\"\"\n",
        "    match = re.search(r'Score:\\s*(\\d+(\\.\\d+)?)', content)\n",
        "    if match:\n",
        "        return float(match.group(1))*100\n",
        "    raise ValueError(f\"Could not extract score from: {content}\")\n",
        "\n",
        "def check_relevance(state: State) -> State:\n",
        "    \"\"\"Check the relevance of the essay.\"\"\"\n",
        "    prompt = ChatPromptTemplate.from_template(\n",
        "        \"Analyze the relevance of the following essay to the given topic. \"\n",
        "        \"Provide a relevance score between 0 and 1. \"\n",
        "        \"Your response should start with 'Score: ' followed by the numeric score, \"\n",
        "        \"then provide your explanation.\\n\\nEssay: {essay}\"\n",
        "    )\n",
        "    result = llm.invoke(prompt.format(essay=state[\"essay\"]))\n",
        "    try:\n",
        "        state[\"relevance_score\"] = extract_score(result.content)\n",
        "    except ValueError as e:\n",
        "        print(f\"Error in check_relevance: {e}\")\n",
        "        state[\"relevance_score\"] = 0.0\n",
        "    return state\n",
        "\n",
        "def check_grammar(state: State) -> State:\n",
        "    \"\"\"Check the grammar of the essay.\"\"\"\n",
        "    prompt = ChatPromptTemplate.from_template(\n",
        "         \"Analyze the grammar and language usage in the following essay. \"\n",
        "        \"Provide a grammar score between 0 and 1. \"\n",
        "        \"Your response should start with 'Score: ' followed by the numeric score, \"\n",
        "        \"then provide your explanation.\\n\\nEssay: {essay}\"\n",
        "    )\n",
        "    result = llm.invoke(prompt.format(essay=state[\"essay\"]))\n",
        "    try:\n",
        "        state[\"grammar_score\"] = extract_score(result.content)\n",
        "    except ValueError as e:\n",
        "        print(f\"Error in check_grammar: {e}\")\n",
        "        state[\"grammar_score\"] = 0.0\n",
        "    return state\n",
        "\n",
        "def analyze_structure(state: State) -> State:\n",
        "    \"\"\"Analyze the structure of the essay.\"\"\"\n",
        "    prompt = ChatPromptTemplate.from_template(\n",
        "        \"Analyze the structure of the following essay. \"\n",
        "        \"Provide a structure score between 0 and 1. \"\n",
        "        \"Your response should start with 'Score: ' followed by the numeric score, \"\n",
        "        \"then provide your explanation.\\n\\nEssay: {essay}\"\n",
        "    )\n",
        "    result = llm.invoke(prompt.format(essay=state[\"essay\"]))\n",
        "    try:\n",
        "       state[\"structure_score\"] = extract_score(result.content)\n",
        "    except ValueError as e:\n",
        "        print(f\"Error in analyze_structure: {e}\")\n",
        "        state[\"structure_score\"] = 0.0\n",
        "    return state\n",
        "\n",
        "def evaluate_depth(state: State) -> State:\n",
        "    \"\"\"Evaluate the depth of analysis in the essay.\"\"\"\n",
        "    prompt = ChatPromptTemplate.from_template(\n",
        "        \"Evaluate the depth of analysis in the following essay. \"\n",
        "        \"Provide a depth score between 0 and 1. \"\n",
        "        \"Your response should start with 'Score: ' followed by the numeric score, \"\n",
        "        \"then provide your explanation.\\n\\nEssay: {essay}\"\n",
        "    )\n",
        "    result = llm.invoke(prompt.format(essay=state[\"essay\"]))\n",
        "    try:\n",
        "        state[\"depth_score\"] = extract_score(result.content)\n",
        "    except ValueError as e:\n",
        "        print(f\"Error in evaluate_depth: {e}\")\n",
        "        state[\"depth_score\"] = 0.0\n",
        "    return state\n",
        "def calculate_final_score(state: State) -> State:\n",
        "    \"\"\"Calculate the final score based on individual component scores.\"\"\"\n",
        "    state[\"final_score\"] = (\n",
        "        state[\"relevance_score\"] * 0.3 +\n",
        "        state[\"grammar_score\"] * 0.2 +\n",
        "        state[\"structure_score\"] * 0.2 +\n",
        "        state[\"depth_score\"] * 0.3\n",
        "    )\n",
        "    return state"
      ],
      "metadata": {
        "id": "NoiMClFVa9O3"
      },
      "execution_count": 18,
      "outputs": []
    },
    {
      "cell_type": "code",
      "source": [
        "# Initialize the StateGraph\n",
        "workflow = StateGraph(State)\n",
        "\n",
        "# Add nodes to the graph\n",
        "workflow.add_node(\"check_relevance\", check_relevance)\n",
        "workflow.add_node(\"check_grammar\", check_grammar)\n",
        "workflow.add_node(\"analyze_structure\", analyze_structure)\n",
        "workflow.add_node(\"evaluate_depth\", evaluate_depth)\n",
        "workflow.add_node(\"calculate_final_score\", calculate_final_score)\n",
        "\n",
        "# Define and add conditional edges\n",
        "workflow.add_conditional_edges(\n",
        "    \"check_relevance\",\n",
        "    lambda x: \"check_grammar\" if x[\"relevance_score\"] > 0.5 else \"calculate_final_score\"\n",
        ")\n",
        "workflow.add_conditional_edges(\n",
        "    \"check_grammar\",\n",
        "    lambda x: \"analyze_structure\" if x[\"grammar_score\"] > 0.6 else \"calculate_final_score\"\n",
        ")\n",
        "workflow.add_conditional_edges(\n",
        "    \"analyze_structure\",\n",
        "    lambda x: \"evaluate_depth\" if x[\"structure_score\"] > 0.7 else \"calculate_final_score\"\n",
        ")\n",
        "workflow.add_conditional_edges(\n",
        "    \"evaluate_depth\",\n",
        "    lambda x: \"calculate_final_score\"\n",
        ")\n",
        "\n",
        "# Set the entry point\n",
        "workflow.set_entry_point(\"check_relevance\")\n",
        "\n",
        "# Set the exit point\n",
        "workflow.add_edge(\"calculate_final_score\", END)\n",
        "\n",
        "# Compile the graph\n",
        "app = workflow.compile()"
      ],
      "metadata": {
        "id": "BMLo3v4rIA6B"
      },
      "execution_count": 19,
      "outputs": []
    },
    {
      "cell_type": "code",
      "source": [
        "def grade_essay(essay: str) -> dict:\n",
        "    \"\"\"Grade the given essay using the defined workflow.\"\"\"\n",
        "    initial_state = State(\n",
        "        essay=essay,\n",
        "        relevance_score=0.0,\n",
        "        grammar_score=0.0,\n",
        "        structure_score=0.0,\n",
        "        depth_score=0.0,\n",
        "        final_score=0.0\n",
        "    )\n",
        "    result = app.invoke(initial_state)\n",
        "    return result"
      ],
      "metadata": {
        "id": "WIDKOPk6IKRa"
      },
      "execution_count": 20,
      "outputs": []
    },
    {
      "cell_type": "code",
      "source": [
        "sample_essay = \"\"\"\n",
        "    The Impact of Artificial Intelligence on Modern Society\n",
        "\n",
        "    Artificial Intelligence (AI) has become an integral part of our daily lives,\n",
        "    revolutionizing various sectors including healthcare, finance, and transportation.\n",
        "    This essay explores the profound effects of AI on modern society, discussing both\n",
        "    its benefits and potential challenges.\n",
        "\n",
        "    One of the most significant impacts of AI is in the healthcare industry.\n",
        "    AI-powered diagnostic tools can analyze medical images with high accuracy,\n",
        "    often surpassing human capabilities. This leads to earlier detection of diseases\n",
        "    and more effective treatment plans. Moreover, AI algorithms can process vast\n",
        "    amounts of medical data to identify patterns and insights that might escape\n",
        "    human observation, potentially leading to breakthroughs in drug discovery and\n",
        "    personalized medicine.\n",
        "\n",
        "    In the financial sector, AI has transformed the way transactions are processed\n",
        "    and monitored. Machine learning algorithms can detect fraudulent activities in\n",
        "    real-time, enhancing security for consumers and institutions alike. Robo-advisors\n",
        "    use AI to provide personalized investment advice, democratizing access to\n",
        "    financial planning services.\n",
        "\n",
        "    The transportation industry is another area where AI is making significant strides.\n",
        "    Self-driving cars, powered by complex AI systems, promise to reduce accidents\n",
        "    caused by human error and provide mobility solutions for those unable to drive.\n",
        "    In logistics, AI optimizes routing and inventory management, leading to more\n",
        "    efficient supply chains and reduced environmental impact.\n",
        "\n",
        "    However, the rapid advancement of AI also presents challenges. There are concerns\n",
        "    about job displacement as AI systems become capable of performing tasks\n",
        "    traditionally done by humans. This raises questions about the need for retraining\n",
        "    and reskilling the workforce to adapt to an AI-driven economy.\n",
        "\n",
        "    Privacy and ethical concerns also arise with the increasing use of AI. The vast\n",
        "    amount of data required to train AI systems raises questions about data privacy\n",
        "    and consent. Additionally, there are ongoing debates about the potential biases\n",
        "    in AI algorithms and the need for transparent and accountable AI systems.\n",
        "\n",
        "    In conclusion, while AI offers tremendous benefits and has the potential to solve\n",
        "    some of humanity's most pressing challenges, it also requires careful consideration\n",
        "    of its societal implications. As we continue to integrate AI into various aspects\n",
        "    of our lives, it is crucial to strike a balance between technological advancement\n",
        "    and ethical considerations, ensuring that the benefits of AI are distributed\n",
        "    equitably across society.\n",
        "    \"\"\""
      ],
      "metadata": {
        "id": "RHKCIEeZJOZa"
      },
      "execution_count": 21,
      "outputs": []
    },
    {
      "cell_type": "code",
      "source": [
        "# Grade the sample essay\n",
        "result = grade_essay(sample_essay)\n",
        "\n",
        "# Display the results\n",
        "print(f\"Final Essay Score: {result['final_score']:.2f}\\n\")\n",
        "print(f\"Relevance Score: {result['relevance_score']:.2f}\")\n",
        "print(f\"Grammar Score: {result['grammar_score']:.2f}\")\n",
        "print(f\"Structure Score: {result['structure_score']:.2f}\")\n",
        "print(f\"Depth Score: {result['depth_score']:.2f}\")"
      ],
      "metadata": {
        "colab": {
          "base_uri": "https://localhost:8080/"
        },
        "id": "IPtxMl9RJYig",
        "outputId": "f4be74dd-ffce-4de8-ef48-87a85ec3e2c8"
      },
      "execution_count": 22,
      "outputs": [
        {
          "output_type": "stream",
          "name": "stdout",
          "text": [
            "Final Essay Score: 85.00\n",
            "\n",
            "Relevance Score: 100.00\n",
            "Grammar Score: 95.00\n",
            "Structure Score: 90.00\n",
            "Depth Score: 60.00\n"
          ]
        }
      ]
    }
  ]
}